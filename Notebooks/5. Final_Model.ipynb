{
  "nbformat": 4,
  "nbformat_minor": 0,
  "metadata": {
    "colab": {
      "name": "5. Final_Model.ipynb",
      "provenance": [],
      "collapsed_sections": [],
      "authorship_tag": "ABX9TyM+pqRl8qgliHYfCMwvdi/k",
      "include_colab_link": true
    },
    "kernelspec": {
      "name": "python3",
      "display_name": "Python 3"
    },
    "accelerator": "GPU"
  },
  "cells": [
    {
      "cell_type": "markdown",
      "metadata": {
        "id": "view-in-github",
        "colab_type": "text"
      },
      "source": [
        "<a href=\"https://colab.research.google.com/github/Ianfm94/Dissertation/blob/master/Notebooks/5.%20Final_Model.ipynb\" target=\"_parent\"><img src=\"https://colab.research.google.com/assets/colab-badge.svg\" alt=\"Open In Colab\"/></a>"
      ]
    },
    {
      "cell_type": "code",
      "metadata": {
        "id": "J0ZlzJQ3y2HC",
        "colab_type": "code",
        "colab": {
          "base_uri": "https://localhost:8080/",
          "height": 69
        },
        "outputId": "84190d3a-8d51-495e-d52a-9d909b8d49ba"
      },
      "source": [
        "# Downloading Required packages for SMOTE & Performance Metrics\n",
        "\n",
        "#%pip install imbalanced-learn\n",
        "#%pip install h5py\n",
        "\n",
        "# Importing required packages\n",
        "import warnings\n",
        "warnings.filterwarnings('ignore',category=FutureWarning)\n",
        "\n",
        "import pandas as pd\n",
        "import numpy as np\n",
        "from numpy import array\n",
        "import tensorflow as tf\n",
        "from keras.models import Sequential\n",
        "from keras.layers import Dense, LSTM, Bidirectional, Dropout, Softmax\n",
        "from keras.layers import RepeatVector, BatchNormalization, TimeDistributed\n",
        "from keras.optimizers import SGD, Adam, RMSprop\n",
        "from keras.callbacks import LearningRateScheduler\n",
        "from keras.metrics import Precision, Recall, AUC, Accuracy\n",
        "from keras import backend as K\n",
        "from keras.models import load_model\n",
        "from sklearn.metrics import f1_score, precision_score, recall_score, confusion_matrix\n",
        "from sklearn.model_selection import train_test_split\n",
        "from sklearn.utils import resample\n",
        "import matplotlib.pyplot as plt\n",
        "import imblearn\n",
        "\n",
        "# Oversample and plot imbalanced dataset with SMOTE\n",
        "from collections import Counter\n",
        "from sklearn.datasets import make_classification\n",
        "from imblearn.over_sampling import SMOTE\n",
        "from imblearn.under_sampling import RandomUnderSampler\n",
        "from imblearn.pipeline import Pipeline\n",
        "from matplotlib import pyplot\n",
        "from numpy import where\n",
        "import seaborn as sns\n",
        "\n",
        "from google.colab import  drive\n",
        "drive.mount('/drive', force_remount=True)\n",
        "\n",
        "print(tf.__version__)\n",
        "print(imblearn.__version__)"
      ],
      "execution_count": null,
      "outputs": [
        {
          "output_type": "stream",
          "text": [
            "Mounted at /drive\n",
            "2.3.0\n",
            "0.4.3\n"
          ],
          "name": "stdout"
        }
      ]
    },
    {
      "cell_type": "code",
      "metadata": {
        "id": "PKb-WDQSy6lW",
        "colab_type": "code",
        "colab": {
          "base_uri": "https://localhost:8080/",
          "height": 1000
        },
        "outputId": "e1ec0bff-108b-4931-8b1a-a688e9c7d5e0"
      },
      "source": [
        "# Reading in training and Combined data\n",
        "train = pd.read_csv('Training_Data_Distribution.csv', index_col = 0)\n",
        "train = pd.DataFrame(train)\n",
        "\n",
        "test = pd.read_csv('Test_Data_Distribution.csv', index_col = 0)\n",
        "test = pd.DataFrame(test)\n",
        "\n",
        "SMOTE_Combined = pd.read_csv('SMOTE_Training_Data.csv', index_col = 0)\n",
        "SMOTE_Combined = pd.DataFrame(SMOTE_Combined)\n",
        "\n",
        "# Plotting Class Imbalance in Data\n",
        "\n",
        "class_, frequency = np.unique(train.Label, return_counts=True)\n",
        "labels_data = dict(zip(class_, frequency))\n",
        "print('Frequency of Volatility:', labels_data[0])\n",
        "print('Frequency of Jumps:', labels_data[1])\n",
        "print()\n",
        "\n",
        "neg, pos = labels_data[0], labels_data[1]\n",
        "comb = labels_data[0] + labels_data[1]\n",
        "pos_class, neg_class = pos / comb, neg / comb\n",
        "pos_class, neg_class = round(pos_class * 100, 2), round(neg_class * 100, 2)\n",
        "\n",
        "print('Positive Class %:', pos_class)\n",
        "print('Negative Class %:', neg_class)\n",
        "\n",
        "sns.barplot(list(labels_data.keys()), list(labels_data.values()))\n",
        "\n",
        "plt.title('Class Distribution of Training Data')\n",
        "plt.ylabel('Frequency of Class')\n",
        "\n",
        "plt.xlabel('Class')\n",
        "plt.xticks(ticks=class_, labels = ['Volatilty', 'Price Jump'])\n",
        "\n",
        "for i, v in enumerate(frequency):\n",
        "    plt.text(i, v, s=str(v), color='black',\n",
        "             fontweight='bold', ha='center', va='bottom')\n",
        "plt.show()\n",
        "\n",
        "# Removing Time Column\n",
        "train.drop(train.columns[-2], axis=1, inplace=True)\n",
        "\n",
        "# Separating Labels \n",
        "y = train.Label\n",
        "\n",
        "# Removing Label Column\n",
        "train.drop(train.columns[-2], axis=1, inplace=True)\n",
        "train = pd.DataFrame(train)\n",
        "\n",
        "# Removing Time Column\n",
        "test.drop(test.columns[-3], axis=1, inplace=True)\n",
        "test = pd.DataFrame(test)\n",
        "\n",
        "# Separating Labels & Removing Time & Return\n",
        "ytest = pd.DataFrame(test)\n",
        "ytest.drop(test.columns[-3], axis=1, inplace=True)\n",
        "ytest = pd.DataFrame(ytest)\n",
        "\n",
        "# Removing Label Column\n",
        "test.drop(test.columns[-1], axis=1, inplace=True)\n",
        "test = pd.DataFrame(test)\n",
        "\n",
        "print()\n",
        "print(train.head(n=10))\n",
        "print(train.shape)\n",
        "print()\n",
        "print(test.head(n=10))\n",
        "print(test.shape)\n",
        "print()\n",
        "print(ytest.head(n=10))\n",
        "print(ytest.shape)"
      ],
      "execution_count": null,
      "outputs": [
        {
          "output_type": "stream",
          "text": [
            "Frequency of Volatility: 388558\n",
            "Frequency of Jumps: 1442\n",
            "\n",
            "Positive Class %: 0.37\n",
            "Negative Class %: 99.63\n"
          ],
          "name": "stdout"
        },
        {
          "output_type": "display_data",
          "data": {
            "image/png": "[encoded data removed]",
            "text/plain": [
              "<Figure size 432x288 with 1 Axes>"
            ]
          },
          "metadata": {
            "tags": [],
            "needs_background": "light"
          }
        },
        {
          "output_type": "stream",
          "text": [
            "\n",
            "     Return  Sequence\n",
            "0  0.712069         0\n",
            "1 -0.101955         1\n",
            "2 -0.013312         2\n",
            "3  0.042160         3\n",
            "4  0.153044         4\n",
            "5  0.035434         5\n",
            "6 -0.105158         6\n",
            "7  0.313591         7\n",
            "8 -0.083952         8\n",
            "9 -0.080706         9\n",
            "(390000, 2)\n",
            "\n",
            "     Return  Sequence\n",
            "0 -0.287683         0\n",
            "1 -0.548178         1\n",
            "2 -0.464171         2\n",
            "3 -0.029152         3\n",
            "4  0.641403         4\n",
            "5  0.217268         5\n",
            "6  0.245698         6\n",
            "7  0.519318         7\n",
            "8  0.100116         8\n",
            "9  0.157617         9\n",
            "(19500, 2)\n",
            "\n",
            "   Sequence  Label\n",
            "0         0      0\n",
            "1         1      0\n",
            "2         2      0\n",
            "3         3      0\n",
            "4         4      0\n",
            "5         5      0\n",
            "6         6      0\n",
            "7         7      0\n",
            "8         8      0\n",
            "9         9      0\n",
            "(19500, 2)\n"
          ],
          "name": "stdout"
        }
      ]
    },
    {
      "cell_type": "code",
      "metadata": {
        "id": "uHEbU2Gzy8xW",
        "colab_type": "code",
        "colab": {
          "base_uri": "https://localhost:8080/",
          "height": 277
        },
        "outputId": "f78444aa-4d0a-422d-a21f-bd82f3b2554d"
      },
      "source": [
        "np.random.seed(111)\n",
        "\n",
        "x_train, x_valid, y_train, y_valid, = train_test_split(train, y,\n",
        "    test_size=0.25, random_state=111)\n",
        "\n",
        "print(\"Number transactions x_train dataset: \", x_train.shape) \n",
        "print(\"Number transactions y_train dataset: \", y_train.shape) \n",
        "print(\"Number transactions x_test dataset: \", x_valid.shape) \n",
        "print(\"Number transactions y_test dataset: \", y_valid.shape) \n",
        "print()\n",
        "print(\"Before SMOTE, counts of Price Jumps in Training Data: {}\".format(sum(y_train == 1))) \n",
        "print(\"Before SMOTE, counts of Volatility in Training Data: {} \\n\".format(sum(y_train == 0))) \n",
        "print(\"Before SMOTE, total count in Training Data: {} \\n\".format(sum(y_train == 0) + sum(y_train == 1)))  \n",
        "\n",
        "print(\"Before SMOTE, counts of Price Jumps in Validation Data: {}\".format(sum(y_valid == 1))) \n",
        "print(\"Before SMOTE, counts of Volatility in Validation Data: {} \\n\".format(sum(y_valid == 0))) \n",
        "print(\"Before SMOTE, total count in Validation Data: {} \\n\".format(sum(y_valid == 0) + sum(y_valid == 1)))  \n"
      ],
      "execution_count": null,
      "outputs": [
        {
          "output_type": "stream",
          "text": [
            "Number transactions x_train dataset:  (292500, 2)\n",
            "Number transactions y_train dataset:  (292500,)\n",
            "Number transactions x_test dataset:  (97500, 2)\n",
            "Number transactions y_test dataset:  (97500,)\n",
            "\n",
            "Before SMOTE, counts of Price Jumps in Training Data: 1083\n",
            "Before SMOTE, counts of Volatility in Training Data: 291417 \n",
            "\n",
            "Before SMOTE, total count in Training Data: 292500 \n",
            "\n",
            "Before SMOTE, counts of Price Jumps in Validation Data: 359\n",
            "Before SMOTE, counts of Volatility in Validation Data: 97141 \n",
            "\n",
            "Before SMOTE, total count in Validation Data: 97500 \n",
            "\n"
          ],
          "name": "stdout"
        }
      ]
    },
    {
      "cell_type": "code",
      "metadata": {
        "id": "xsqYxIxe1kuT",
        "colab_type": "code",
        "colab": {
          "base_uri": "https://localhost:8080/",
          "height": 277
        },
        "outputId": "30ba997b-5a8a-40ca-bfce-542b1c138cd0"
      },
      "source": [
        "# define pipeline\n",
        "over = SMOTE(sampling_strategy=0.1)\n",
        "under = RandomUnderSampler(sampling_strategy=0.5)\n",
        "steps = [('o', over), ('u', under)]\n",
        "pipeline = Pipeline(steps=steps)\n",
        "\n",
        "# transform the dataset\n",
        "x_train, y_train = pipeline.fit_resample(x_train, y_train)\n",
        "x_valid, y_valid = pipeline.fit_resample(x_valid, y_valid)\n",
        "print()\n",
        "\n",
        "print('After SMOTE, the shape of x_train_1: {}'.format(x_train.shape)) \n",
        "print('After SMOTE, the shape of y_train_1: {} \\n'.format(y_train.shape))\n",
        "print('After SMOTE, the shape of x_valid_1: {}'.format(x_valid.shape)) \n",
        "print('After SMOTE, the shape of y_valid_1: {} \\n'.format(y_valid.shape))\n",
        " \n",
        "print(\"After SMOTE, counts of Price Jumps in Training Data: {}\".format(sum(y_train == 1))) \n",
        "print(\"After SMOTE, counts of Volatility in Training Data: {}\".format(sum(y_train == 0))) \n",
        "print(\"After SMOTE, total count in Training Data: {} \\n\".format(sum(y_train == 0) + sum(y_train == 1)))\n",
        "\n",
        "print(\"After SMOTE, counts of Price Jumps in Validation Data: {}\".format(sum(y_valid == 1))) \n",
        "print(\"After SMOTE, counts of Volatility in Validation Data: {}\".format(sum(y_valid == 0))) \n",
        "print(\"After SMOTE, total count in Validation Data: {} \\n\".format(sum(y_valid == 0) + sum(y_valid == 1)))\n",
        "\n",
        "x_train = pd.DataFrame(x_train)\n",
        "y_train = pd.DataFrame(y_train)\n",
        "x_valid = pd.DataFrame(x_valid)\n",
        "y_valid = pd.DataFrame(y_valid)"
      ],
      "execution_count": null,
      "outputs": [
        {
          "output_type": "stream",
          "text": [
            "\n",
            "After SMOTE, the shape of x_train_1: (87423, 2)\n",
            "After SMOTE, the shape of y_train_1: (87423,) \n",
            "\n",
            "After SMOTE, the shape of x_valid_1: (29142, 2)\n",
            "After SMOTE, the shape of y_valid_1: (29142,) \n",
            "\n",
            "After SMOTE, counts of Price Jumps in Training Data: 29141\n",
            "After SMOTE, counts of Volatility in Training Data: 58282\n",
            "After SMOTE, total count in Training Data: 87423 \n",
            "\n",
            "After SMOTE, counts of Price Jumps in Validation Data: 9714\n",
            "After SMOTE, counts of Volatility in Validation Data: 19428\n",
            "After SMOTE, total count in Validation Data: 29142 \n",
            "\n"
          ],
          "name": "stdout"
        }
      ]
    },
    {
      "cell_type": "code",
      "metadata": {
        "id": "RDQeMrV82mlk",
        "colab_type": "code",
        "colab": {}
      },
      "source": [
        "x_train = np.array(x_train)\n",
        "y_train = np.array(y_train)\n",
        "x_valid = np.array(x_valid)\n",
        "y_valid = np.array(y_valid)\n",
        "x_test  = np.array(test)\n",
        "y_test  = np.array(ytest)\n",
        "\n",
        "n_samples_train = x_train.shape[0]\n",
        "n_samples_valid = x_valid.shape[0]\n",
        "n_samples_test =  x_test.shape[0]\n",
        "n_timesteps = 2\n",
        "n_timesteps_x =  x_train.shape[1]\n",
        "n_timesteps_y =  y_train.shape[1]\n",
        "n_timesteps_t =  x_test.shape[1]\n",
        "n_timesteps_yt = y_test.shape[0]\n",
        "n_features = 1\n",
        "\n",
        "x_train = np.reshape(x_train, (n_samples_train, n_timesteps_x, n_features))\n",
        "x_valid = np.reshape(x_valid, (n_samples_valid, n_timesteps_x, n_features))\n",
        "y_train = np.reshape(y_train, (n_samples_train, n_timesteps_y, n_features))\n",
        "y_valid = np.reshape(y_valid, (n_samples_valid, n_timesteps_y, n_features))\n",
        "x_test =  np.reshape(x_test,  (n_samples_test,  n_timesteps_t, n_features))\n",
        "\n",
        "x_train = np.array(x_train)\n",
        "y_train = np.array(y_train)\n",
        "x_valid = np.array(x_valid)\n",
        "y_valid = np.array(y_valid)\n",
        "x_test = np.array(x_test)\n",
        "y_test = np.array(y_test)"
      ],
      "execution_count": null,
      "outputs": []
    },
    {
      "cell_type": "code",
      "metadata": {
        "id": "YgXqnth61o8L",
        "colab_type": "code",
        "colab": {
          "base_uri": "https://localhost:8080/",
          "height": 382
        },
        "outputId": "fdd4cb2b-10f5-4ad0-e16d-11a76673edf1"
      },
      "source": [
        "# Plotting Class Imbalance after SMOTE\n",
        "\n",
        "class_, frequency = np.unique(SMOTE_Combined.Label, return_counts=True)\n",
        "labels_data = dict(zip(class_, frequency))\n",
        "print('Frequency of Volatility:', labels_data[0])\n",
        "print('Frequency of Jumps:', labels_data[1])\n",
        "print()\n",
        "\n",
        "neg, pos = labels_data[0], labels_data[1]\n",
        "comb = labels_data[0] + labels_data[1]\n",
        "pos_class, neg_class = pos / comb, neg / comb\n",
        "pos_class, neg_class = round(pos_class * 100, 2), round(neg_class * 100, 2)\n",
        "\n",
        "print('Positive Class %:', pos_class)\n",
        "print('Negative Class %:', neg_class)\n",
        "\n",
        "sns.barplot(list(labels_data.keys()), list(labels_data.values()))\n",
        "\n",
        "plt.title('Class Distribution of Training Data')\n",
        "plt.ylabel('Frequency of Class')\n",
        "\n",
        "plt.xlabel('Class')\n",
        "plt.xticks(ticks=class_, labels = ['Volatilty', 'Price Jump'])\n",
        "\n",
        "for i, v in enumerate(frequency):\n",
        "    plt.text(i, v, s=str(v), color='black',\n",
        "             fontweight='bold', ha='center', va='bottom')\n",
        "plt.show()"
      ],
      "execution_count": null,
      "outputs": [
        {
          "output_type": "stream",
          "text": [
            "Frequency of Volatility: 77710\n",
            "Frequency of Jumps: 38855\n",
            "\n",
            "Positive Class %: 33.33\n",
            "Negative Class %: 66.67\n"
          ],
          "name": "stdout"
        },
        {
          "output_type": "display_data",
          "data": {
            "image/png": "[encoded data removed]",
            "text/plain": [
              "<Figure size 432x288 with 1 Axes>"
            ]
          },
          "metadata": {
            "tags": [],
            "needs_background": "light"
          }
        }
      ]
    },
    {
      "cell_type": "code",
      "metadata": {
        "id": "Q_cxairU2VFO",
        "colab_type": "code",
        "colab": {
          "base_uri": "https://localhost:8080/",
          "height": 1000
        },
        "outputId": "397fa367-6051-45cd-c217-05596f97ed8b"
      },
      "source": [
        "# LSTM Workings_Autoencoder Model\n",
        "\n",
        "ac_model_1 = Sequential()\n",
        "ac_model_1.add(Bidirectional(LSTM(units=200, return_sequences = True,\n",
        "                               input_shape = (n_timesteps, n_features), \n",
        "                                kernel_initializer='glorot_normal')))\n",
        "ac_model_1.add(LSTM(100))\n",
        "ac_model_1.add(Dropout(0.2))\n",
        "\n",
        "ac_model_1.add(RepeatVector(n_timesteps))\n",
        "\n",
        "ac_model_1.add(LSTM(100, return_sequences = True))\n",
        "ac_model_1.add(Dropout(0.2))\n",
        "ac_model_1.add(LSTM(200, return_sequences = True))\n",
        "ac_model_1.add(TimeDistributed(Dense(2, activation='tanh')))\n",
        "\n",
        "ac_model_1.compile(loss='binary_crossentropy', optimizer='SGD', \n",
        "                 metrics=['accuracy'])\n",
        "\n",
        "results_ac_model_1 = ac_model_1.fit(x_train, y_train, epochs=100, batch_size=32,\n",
        "                        shuffle=True, validation_data=(x_valid, y_valid))\n",
        "\n",
        "print(ac_model_1.summary())\n",
        "\n",
        "ac_model_1.save('lstm_model.h5')"
      ],
      "execution_count": null,
      "outputs": [
        {
          "output_type": "stream",
          "text": [
            "Epoch 1/100\n",
            "2732/2732 [==============================] - 42s 15ms/step - loss: 0.6448 - accuracy: 0.5089 - val_loss: 0.6323 - val_accuracy: 0.5000\n",
            "Epoch 2/100\n",
            "2732/2732 [==============================] - 40s 15ms/step - loss: 0.6272 - accuracy: 0.5032 - val_loss: 0.6242 - val_accuracy: 0.2956\n",
            "Epoch 3/100\n",
            "2732/2732 [==============================] - 40s 15ms/step - loss: 0.6217 - accuracy: 0.4816 - val_loss: 0.6201 - val_accuracy: 0.4371\n",
            "Epoch 4/100\n",
            "2732/2732 [==============================] - 40s 15ms/step - loss: 0.6192 - accuracy: 0.4773 - val_loss: 0.6179 - val_accuracy: 0.4952\n",
            "Epoch 5/100\n",
            "2732/2732 [==============================] - 40s 15ms/step - loss: 0.6179 - accuracy: 0.4770 - val_loss: 0.6165 - val_accuracy: 0.4827\n",
            "Epoch 6/100\n",
            "2732/2732 [==============================] - 40s 15ms/step - loss: 0.6168 - accuracy: 0.4787 - val_loss: 0.6163 - val_accuracy: 0.3100\n",
            "Epoch 7/100\n",
            "2732/2732 [==============================] - 40s 15ms/step - loss: 0.6167 - accuracy: 0.4800 - val_loss: 0.6146 - val_accuracy: 0.4937\n",
            "Epoch 8/100\n",
            "2732/2732 [==============================] - 40s 15ms/step - loss: 0.6158 - accuracy: 0.4804 - val_loss: 0.6137 - val_accuracy: 0.3044\n",
            "Epoch 9/100\n",
            "2732/2732 [==============================] - 40s 15ms/step - loss: 0.6157 - accuracy: 0.4854 - val_loss: 0.6132 - val_accuracy: 0.4850\n",
            "Epoch 10/100\n",
            "2732/2732 [==============================] - 40s 15ms/step - loss: 0.6155 - accuracy: 0.4821 - val_loss: 0.6128 - val_accuracy: 0.4261\n",
            "Epoch 11/100\n",
            "2732/2732 [==============================] - 40s 15ms/step - loss: 0.6149 - accuracy: 0.4816 - val_loss: 0.6121 - val_accuracy: 0.5992\n",
            "Epoch 12/100\n",
            "2732/2732 [==============================] - 40s 15ms/step - loss: 0.6143 - accuracy: 0.4842 - val_loss: 0.6114 - val_accuracy: 0.3338\n",
            "Epoch 13/100\n",
            "2732/2732 [==============================] - 40s 15ms/step - loss: 0.6143 - accuracy: 0.4838 - val_loss: 0.6107 - val_accuracy: 0.2970\n",
            "Epoch 14/100\n",
            "2732/2732 [==============================] - 40s 15ms/step - loss: 0.6137 - accuracy: 0.4865 - val_loss: 0.6097 - val_accuracy: 0.2414\n",
            "Epoch 15/100\n",
            "2732/2732 [==============================] - 40s 15ms/step - loss: 0.6123 - accuracy: 0.4843 - val_loss: 0.6082 - val_accuracy: 0.7062\n",
            "Epoch 16/100\n",
            "2732/2732 [==============================] - 40s 15ms/step - loss: 0.6100 - accuracy: 0.4869 - val_loss: 0.6034 - val_accuracy: 0.3364\n",
            "Epoch 17/100\n",
            "2732/2732 [==============================] - 40s 15ms/step - loss: 0.5989 - accuracy: 0.4834 - val_loss: 0.5659 - val_accuracy: 0.4109\n",
            "Epoch 18/100\n",
            "2732/2732 [==============================] - 40s 15ms/step - loss: 0.3903 - accuracy: 0.3294 - val_loss: 0.3184 - val_accuracy: 0.0498\n",
            "Epoch 19/100\n",
            "2732/2732 [==============================] - 41s 15ms/step - loss: 0.0769 - accuracy: 0.0770 - val_loss: 0.3080 - val_accuracy: 0.0294\n",
            "Epoch 20/100\n",
            "2732/2732 [==============================] - 40s 15ms/step - loss: 0.0396 - accuracy: 0.0605 - val_loss: 0.3072 - val_accuracy: 0.0261\n",
            "Epoch 21/100\n",
            "2732/2732 [==============================] - 40s 15ms/step - loss: 0.3334 - accuracy: 0.6400 - val_loss: 0.2948 - val_accuracy: 0.9720\n",
            "Epoch 22/100\n",
            "2732/2732 [==============================] - 40s 15ms/step - loss: 0.0478 - accuracy: 0.8919 - val_loss: 0.2818 - val_accuracy: 0.9701\n",
            "Epoch 23/100\n",
            "2732/2732 [==============================] - 40s 15ms/step - loss: 0.0259 - accuracy: 0.8670 - val_loss: 0.3008 - val_accuracy: 0.9703\n",
            "Epoch 24/100\n",
            "2732/2732 [==============================] - 40s 15ms/step - loss: 0.0193 - accuracy: 0.8060 - val_loss: 0.2976 - val_accuracy: 0.9493\n",
            "Epoch 25/100\n",
            "2732/2732 [==============================] - 40s 15ms/step - loss: 0.0166 - accuracy: 0.7436 - val_loss: 0.3074 - val_accuracy: 0.9285\n",
            "Epoch 26/100\n",
            "2732/2732 [==============================] - 40s 15ms/step - loss: 0.0441 - accuracy: 0.6944 - val_loss: 0.2814 - val_accuracy: 0.9526\n",
            "Epoch 27/100\n",
            "2732/2732 [==============================] - 40s 15ms/step - loss: 0.0417 - accuracy: 0.8273 - val_loss: 0.2965 - val_accuracy: 0.9302\n",
            "Epoch 28/100\n",
            "2732/2732 [==============================] - 40s 15ms/step - loss: 0.0211 - accuracy: 0.8332 - val_loss: 0.2934 - val_accuracy: 0.8178\n",
            "Epoch 29/100\n",
            "2732/2732 [==============================] - 41s 15ms/step - loss: 0.0158 - accuracy: 0.7677 - val_loss: 0.3021 - val_accuracy: 0.7449\n",
            "Epoch 30/100\n",
            "2732/2732 [==============================] - 41s 15ms/step - loss: 0.0127 - accuracy: 0.8211 - val_loss: 0.3035 - val_accuracy: 0.8903\n",
            "Epoch 31/100\n",
            "2732/2732 [==============================] - 40s 15ms/step - loss: 0.0117 - accuracy: 0.8249 - val_loss: 0.3090 - val_accuracy: 0.8786\n",
            "Epoch 32/100\n",
            "2732/2732 [==============================] - 40s 15ms/step - loss: 0.0105 - accuracy: 0.8271 - val_loss: 0.3071 - val_accuracy: 0.8908\n",
            "Epoch 33/100\n",
            "2732/2732 [==============================] - 39s 14ms/step - loss: 0.0387 - accuracy: 0.7159 - val_loss: 0.3088 - val_accuracy: 0.6667\n",
            "Epoch 34/100\n",
            "2732/2732 [==============================] - 41s 15ms/step - loss: 0.0184 - accuracy: 0.6960 - val_loss: 0.3073 - val_accuracy: 0.7460\n",
            "Epoch 35/100\n",
            "2732/2732 [==============================] - 41s 15ms/step - loss: 0.0151 - accuracy: 0.7881 - val_loss: 0.3112 - val_accuracy: 0.8251\n",
            "Epoch 36/100\n",
            "2732/2732 [==============================] - 40s 15ms/step - loss: 0.0116 - accuracy: 0.8644 - val_loss: 0.3184 - val_accuracy: 0.8597\n",
            "Epoch 37/100\n",
            "2732/2732 [==============================] - 40s 15ms/step - loss: 0.0108 - accuracy: 0.9135 - val_loss: 0.3079 - val_accuracy: 0.9355\n",
            "Epoch 38/100\n",
            "2732/2732 [==============================] - 40s 15ms/step - loss: 0.0104 - accuracy: 0.9460 - val_loss: 0.3151 - val_accuracy: 0.9289\n",
            "Epoch 39/100\n",
            "2732/2732 [==============================] - 40s 15ms/step - loss: 0.0099 - accuracy: 0.9631 - val_loss: 0.3126 - val_accuracy: 0.9523\n",
            "Epoch 40/100\n",
            "2732/2732 [==============================] - 40s 15ms/step - loss: 0.0103 - accuracy: 0.9722 - val_loss: 0.3118 - val_accuracy: 0.9641\n",
            "Epoch 41/100\n",
            "2732/2732 [==============================] - 40s 15ms/step - loss: 0.0096 - accuracy: 0.9778 - val_loss: 0.3107 - val_accuracy: 0.9687\n",
            "Epoch 42/100\n",
            "2732/2732 [==============================] - 40s 15ms/step - loss: 0.0097 - accuracy: 0.9843 - val_loss: 0.3155 - val_accuracy: 0.9615\n",
            "Epoch 43/100\n",
            "2732/2732 [==============================] - 41s 15ms/step - loss: 0.0094 - accuracy: 0.9865 - val_loss: 0.3147 - val_accuracy: 0.9664\n",
            "Epoch 44/100\n",
            "2732/2732 [==============================] - 40s 15ms/step - loss: 0.0085 - accuracy: 0.9892 - val_loss: 0.3117 - val_accuracy: 0.9728\n",
            "Epoch 45/100\n",
            "2732/2732 [==============================] - 40s 15ms/step - loss: 0.0140 - accuracy: 0.9753 - val_loss: 0.3090 - val_accuracy: 0.9526\n",
            "Epoch 46/100\n",
            "2732/2732 [==============================] - 40s 15ms/step - loss: 0.0101 - accuracy: 0.9739 - val_loss: 0.3072 - val_accuracy: 0.9706\n",
            "Epoch 47/100\n",
            "2732/2732 [==============================] - 40s 15ms/step - loss: 0.0119 - accuracy: 0.9870 - val_loss: 0.3137 - val_accuracy: 0.9728\n",
            "Epoch 48/100\n",
            "2732/2732 [==============================] - 40s 15ms/step - loss: 0.0128 - accuracy: 0.9920 - val_loss: 0.3076 - val_accuracy: 0.9749\n",
            "Epoch 49/100\n",
            "2732/2732 [==============================] - 40s 15ms/step - loss: 0.0091 - accuracy: 0.9937 - val_loss: 0.3143 - val_accuracy: 0.9742\n",
            "Epoch 50/100\n",
            "2732/2732 [==============================] - 41s 15ms/step - loss: 0.0091 - accuracy: 0.9944 - val_loss: 0.3139 - val_accuracy: 0.9746\n",
            "Epoch 51/100\n",
            "2732/2732 [==============================] - 40s 15ms/step - loss: 0.0642 - accuracy: 0.9574 - val_loss: 0.2946 - val_accuracy: 0.9748\n",
            "Epoch 52/100\n",
            "2732/2732 [==============================] - 40s 15ms/step - loss: 0.0162 - accuracy: 0.9943 - val_loss: 0.3057 - val_accuracy: 0.9756\n",
            "Epoch 53/100\n",
            "2732/2732 [==============================] - 40s 15ms/step - loss: 0.0106 - accuracy: 0.9956 - val_loss: 0.3077 - val_accuracy: 0.9752\n",
            "Epoch 54/100\n",
            "2732/2732 [==============================] - 40s 15ms/step - loss: 0.0098 - accuracy: 0.9952 - val_loss: 0.3114 - val_accuracy: 0.9751\n",
            "Epoch 55/100\n",
            "2732/2732 [==============================] - 40s 15ms/step - loss: 0.0097 - accuracy: 0.9951 - val_loss: 0.3112 - val_accuracy: 0.9749\n",
            "Epoch 56/100\n",
            "2732/2732 [==============================] - 40s 15ms/step - loss: 0.0093 - accuracy: 0.9941 - val_loss: 0.3131 - val_accuracy: 0.9745\n",
            "Epoch 57/100\n",
            "2732/2732 [==============================] - 40s 15ms/step - loss: 0.0083 - accuracy: 0.9940 - val_loss: 0.3122 - val_accuracy: 0.9745\n",
            "Epoch 58/100\n",
            "2732/2732 [==============================] - 40s 15ms/step - loss: 0.0083 - accuracy: 0.9945 - val_loss: 0.3111 - val_accuracy: 0.9747\n",
            "Epoch 59/100\n",
            "2732/2732 [==============================] - 40s 15ms/step - loss: 0.0082 - accuracy: 0.9944 - val_loss: 0.3108 - val_accuracy: 0.9739\n",
            "Epoch 60/100\n",
            "2732/2732 [==============================] - 41s 15ms/step - loss: 0.0080 - accuracy: 0.9935 - val_loss: 0.3143 - val_accuracy: 0.9747\n",
            "Epoch 61/100\n",
            "2732/2732 [==============================] - 40s 15ms/step - loss: 0.0095 - accuracy: 0.9954 - val_loss: 0.3123 - val_accuracy: 0.9760\n",
            "Epoch 62/100\n",
            "2732/2732 [==============================] - 40s 15ms/step - loss: 0.0117 - accuracy: 0.9936 - val_loss: 0.3127 - val_accuracy: 0.9745\n",
            "Epoch 63/100\n",
            "2732/2732 [==============================] - 40s 15ms/step - loss: 0.0138 - accuracy: 0.9850 - val_loss: 0.3102 - val_accuracy: 0.9684\n",
            "Epoch 64/100\n",
            "2732/2732 [==============================] - 40s 15ms/step - loss: 0.0099 - accuracy: 0.9738 - val_loss: 0.3132 - val_accuracy: 0.9630\n",
            "Epoch 65/100\n",
            "2732/2732 [==============================] - 40s 15ms/step - loss: 0.0084 - accuracy: 0.9837 - val_loss: 0.3151 - val_accuracy: 0.9681\n",
            "Epoch 66/100\n",
            "2732/2732 [==============================] - 40s 15ms/step - loss: 0.0098 - accuracy: 0.9894 - val_loss: 0.3112 - val_accuracy: 0.9736\n",
            "Epoch 67/100\n",
            "2732/2732 [==============================] - 41s 15ms/step - loss: 0.0075 - accuracy: 0.9899 - val_loss: 0.3155 - val_accuracy: 0.9727\n",
            "Epoch 68/100\n",
            "2732/2732 [==============================] - 40s 15ms/step - loss: 0.0075 - accuracy: 0.9879 - val_loss: 0.3118 - val_accuracy: 0.9714\n",
            "Epoch 69/100\n",
            "2732/2732 [==============================] - 40s 15ms/step - loss: 0.0162 - accuracy: 0.9884 - val_loss: 0.3099 - val_accuracy: 0.9741\n",
            "Epoch 70/100\n",
            "2732/2732 [==============================] - 39s 14ms/step - loss: 0.0112 - accuracy: 0.9894 - val_loss: 0.3104 - val_accuracy: 0.9738\n",
            "Epoch 71/100\n",
            "2732/2732 [==============================] - 42s 15ms/step - loss: 0.0099 - accuracy: 0.9896 - val_loss: 0.3113 - val_accuracy: 0.9737\n",
            "Epoch 72/100\n",
            "2732/2732 [==============================] - 40s 15ms/step - loss: 0.0098 - accuracy: 0.9908 - val_loss: 0.3128 - val_accuracy: 0.9736\n",
            "Epoch 73/100\n",
            "2732/2732 [==============================] - 40s 15ms/step - loss: 0.0085 - accuracy: 0.9903 - val_loss: 0.3169 - val_accuracy: 0.9718\n",
            "Epoch 74/100\n",
            "2732/2732 [==============================] - 40s 15ms/step - loss: 0.0081 - accuracy: 0.9891 - val_loss: 0.3143 - val_accuracy: 0.9720\n",
            "Epoch 75/100\n",
            "2732/2732 [==============================] - 40s 14ms/step - loss: 0.0091 - accuracy: 0.9882 - val_loss: 0.3068 - val_accuracy: 0.9737\n",
            "Epoch 76/100\n",
            "2732/2732 [==============================] - 39s 14ms/step - loss: 0.0199 - accuracy: 0.9369 - val_loss: 0.3040 - val_accuracy: 0.9728\n",
            "Epoch 77/100\n",
            "2732/2732 [==============================] - 39s 14ms/step - loss: 0.0091 - accuracy: 0.9852 - val_loss: 0.3109 - val_accuracy: 0.9767\n",
            "Epoch 78/100\n",
            "2732/2732 [==============================] - 41s 15ms/step - loss: 0.0100 - accuracy: 0.9914 - val_loss: 0.3108 - val_accuracy: 0.9757\n",
            "Epoch 79/100\n",
            "2732/2732 [==============================] - 40s 15ms/step - loss: 0.0185 - accuracy: 0.9888 - val_loss: 0.3089 - val_accuracy: 0.9757\n",
            "Epoch 80/100\n",
            "2732/2732 [==============================] - 40s 15ms/step - loss: 0.0090 - accuracy: 0.9905 - val_loss: 0.3111 - val_accuracy: 0.9742\n",
            "Epoch 81/100\n",
            "2732/2732 [==============================] - 41s 15ms/step - loss: 0.0078 - accuracy: 0.9870 - val_loss: 0.3117 - val_accuracy: 0.9717\n",
            "Epoch 82/100\n",
            "2732/2732 [==============================] - 40s 15ms/step - loss: 0.0079 - accuracy: 0.9831 - val_loss: 0.3136 - val_accuracy: 0.9706\n",
            "Epoch 83/100\n",
            "2732/2732 [==============================] - 40s 15ms/step - loss: 0.0071 - accuracy: 0.9775 - val_loss: 0.3132 - val_accuracy: 0.9666\n",
            "Epoch 84/100\n",
            "2732/2732 [==============================] - 40s 15ms/step - loss: 0.0068 - accuracy: 0.9713 - val_loss: 0.3126 - val_accuracy: 0.9626\n",
            "Epoch 85/100\n",
            "2732/2732 [==============================] - 40s 15ms/step - loss: 0.0067 - accuracy: 0.9652 - val_loss: 0.3172 - val_accuracy: 0.9609\n",
            "Epoch 86/100\n",
            "2732/2732 [==============================] - 40s 15ms/step - loss: 0.0065 - accuracy: 0.9585 - val_loss: 0.3139 - val_accuracy: 0.9552\n",
            "Epoch 87/100\n",
            "2732/2732 [==============================] - 40s 15ms/step - loss: 0.0063 - accuracy: 0.9533 - val_loss: 0.3126 - val_accuracy: 0.9473\n",
            "Epoch 88/100\n",
            "2732/2732 [==============================] - 40s 15ms/step - loss: 0.0069 - accuracy: 0.9487 - val_loss: 0.3137 - val_accuracy: 0.9449\n",
            "Epoch 89/100\n",
            "2732/2732 [==============================] - 40s 15ms/step - loss: 0.0070 - accuracy: 0.9434 - val_loss: 0.3170 - val_accuracy: 0.9442\n",
            "Epoch 90/100\n",
            "2732/2732 [==============================] - 40s 15ms/step - loss: 0.0064 - accuracy: 0.9342 - val_loss: 0.3176 - val_accuracy: 0.9396\n",
            "Epoch 91/100\n",
            "2732/2732 [==============================] - 40s 15ms/step - loss: 0.0100 - accuracy: 0.9345 - val_loss: 0.3130 - val_accuracy: 0.9406\n",
            "Epoch 92/100\n",
            "2732/2732 [==============================] - 40s 15ms/step - loss: 0.0093 - accuracy: 0.9337 - val_loss: 0.3153 - val_accuracy: 0.9525\n",
            "Epoch 93/100\n",
            "2732/2732 [==============================] - 41s 15ms/step - loss: 0.0066 - accuracy: 0.9302 - val_loss: 0.3159 - val_accuracy: 0.9459\n",
            "Epoch 94/100\n",
            "2732/2732 [==============================] - 40s 15ms/step - loss: 0.0080 - accuracy: 0.9242 - val_loss: 0.3131 - val_accuracy: 0.9344\n",
            "Epoch 95/100\n",
            "2732/2732 [==============================] - 40s 15ms/step - loss: 0.0094 - accuracy: 0.9248 - val_loss: 0.3102 - val_accuracy: 0.9371\n",
            "Epoch 96/100\n",
            "2732/2732 [==============================] - 40s 15ms/step - loss: 0.0078 - accuracy: 0.9264 - val_loss: 0.3161 - val_accuracy: 0.9385\n",
            "Epoch 97/100\n",
            "2732/2732 [==============================] - 40s 15ms/step - loss: 0.0068 - accuracy: 0.9173 - val_loss: 0.3157 - val_accuracy: 0.9240\n",
            "Epoch 98/100\n",
            "2732/2732 [==============================] - 40s 15ms/step - loss: 0.0063 - accuracy: 0.9063 - val_loss: 0.3154 - val_accuracy: 0.9163\n",
            "Epoch 99/100\n",
            "2732/2732 [==============================] - 41s 15ms/step - loss: 0.0068 - accuracy: 0.8995 - val_loss: 0.3148 - val_accuracy: 0.9124\n",
            "Epoch 100/100\n",
            "2732/2732 [==============================] - 40s 15ms/step - loss: 0.0087 - accuracy: 0.8913 - val_loss: 0.3147 - val_accuracy: 0.9249\n",
            "Model: \"sequential\"\n",
            "_________________________________________________________________\n",
            "Layer (type)                 Output Shape              Param #   \n",
            "=================================================================\n",
            "bidirectional (Bidirectional (None, 2, 400)            323200    \n",
            "_________________________________________________________________\n",
            "lstm_1 (LSTM)                (None, 100)               200400    \n",
            "_________________________________________________________________\n",
            "dropout (Dropout)            (None, 100)               0         \n",
            "_________________________________________________________________\n",
            "repeat_vector (RepeatVector) (None, 2, 100)            0         \n",
            "_________________________________________________________________\n",
            "lstm_2 (LSTM)                (None, 2, 100)            80400     \n",
            "_________________________________________________________________\n",
            "dropout_1 (Dropout)          (None, 2, 100)            0         \n",
            "_________________________________________________________________\n",
            "lstm_3 (LSTM)                (None, 2, 200)            240800    \n",
            "_________________________________________________________________\n",
            "time_distributed (TimeDistri (None, 2, 2)              402       \n",
            "=================================================================\n",
            "Total params: 845,202\n",
            "Trainable params: 845,202\n",
            "Non-trainable params: 0\n",
            "_________________________________________________________________\n",
            "None\n"
          ],
          "name": "stdout"
        }
      ]
    },
    {
      "cell_type": "code",
      "metadata": {
        "id": "5a8c4_ma2vQr",
        "colab_type": "code",
        "colab": {
          "base_uri": "https://localhost:8080/",
          "height": 52
        },
        "outputId": "77850611-9837-4578-f86d-6350027bd242"
      },
      "source": [
        "# Performance Metrcs\n",
        "\n",
        "Train_Acc = np.mean(results_ac_model_1.history[\"accuracy\"]) * 100\n",
        "Train_Acc = round(Train_Acc, 2)\n",
        "Valid_Acc = np.mean(results_ac_model_1.history[\"val_accuracy\"]) * 100\n",
        "Valid_Acc = round(Valid_Acc, 2)\n",
        "\n",
        "print(\"Training-Accuracy:\", Train_Acc, '%')\n",
        "print(\"Validation-Accuracy:\", Valid_Acc, '%') \n"
      ],
      "execution_count": null,
      "outputs": [
        {
          "output_type": "stream",
          "text": [
            "Training-Accuracy: 83.41 %\n",
            "Validation-Accuracy: 82.82 %\n"
          ],
          "name": "stdout"
        }
      ]
    },
    {
      "cell_type": "code",
      "metadata": {
        "id": "ujN3oYvL2xbM",
        "colab_type": "code",
        "colab": {
          "base_uri": "https://localhost:8080/",
          "height": 295
        },
        "outputId": "86bb7d34-218d-40f1-f4df-0e9f7fb3768f"
      },
      "source": [
        "# plot loss during training\n",
        "\n",
        "plt.title('Training & Validation Data Loss Values')\n",
        "plt.plot(results_ac_model_1.history['loss'], label='train')\n",
        "plt.plot(results_ac_model_1.history['val_loss'], label='validation')\n",
        "plt.ylabel('Loss Value')    \n",
        "plt.xlabel('No. epoch')\n",
        "plt.legend(loc=\"upper left\")\n",
        "plt.show()"
      ],
      "execution_count": null,
      "outputs": [
        {
          "output_type": "display_data",
          "data": {
            "image/png": "[encoded data removed]",
            "text/plain": [
              "<Figure size 432x288 with 1 Axes>"
            ]
          },
          "metadata": {
            "tags": [],
            "needs_background": "light"
          }
        }
      ]
    },
    {
      "cell_type": "code",
      "metadata": {
        "id": "9PXsGYk_2ywz",
        "colab_type": "code",
        "colab": {
          "base_uri": "https://localhost:8080/",
          "height": 295
        },
        "outputId": "f0797424-5b72-42b9-f75b-a35e9a363903"
      },
      "source": [
        "# plot accuracy during training\n",
        "\n",
        "plt.title('Training & Validation Data Accuracy')\n",
        "plt.plot(results_ac_model_1.history['accuracy'], label='train')\n",
        "plt.plot(results_ac_model_1.history['val_accuracy'], label='validation')\n",
        "plt.ylabel('Accuracy')\n",
        "plt.xlabel('No. epoch')\n",
        "plt.legend(loc=\"upper left\")\n",
        "plt.show()"
      ],
      "execution_count": null,
      "outputs": [
        {
          "output_type": "display_data",
          "data": {
            "image/png": "[encoded data removed]",
            "text/plain": [
              "<Figure size 432x288 with 1 Axes>"
            ]
          },
          "metadata": {
            "tags": [],
            "needs_background": "light"
          }
        }
      ]
    },
    {
      "cell_type": "code",
      "metadata": {
        "id": "NnJli4KbNHOj",
        "colab_type": "code",
        "colab": {
          "base_uri": "https://localhost:8080/",
          "height": 104
        },
        "outputId": "7d28cea2-48be-405a-f269-10677ca1d59c"
      },
      "source": [
        "# load model from single file\n",
        "model = load_model('lstm_model.h5')\n",
        "\n",
        "y_pred = model.predict(x_test)\n",
        "y_pred_bool = np.argmax(y_pred, axis=1)\n",
        "\n",
        "y_pred_bool = pd.DataFrame(y_pred_bool)\n",
        "y_pred_bool.drop(y_pred_bool.columns[-2], axis=1, inplace=True)\n",
        "y_pred_bool = pd.DataFrame(y_pred_bool)\n",
        "\n",
        "y_test = pd.DataFrame(y_test)\n",
        "y_test.drop(y_test.columns[-2], axis=1, inplace=True)\n",
        "y_test = pd.DataFrame(y_test)\n",
        "\n",
        "# Confusion Matrix\n",
        "\n",
        "cm = confusion_matrix(y_test, y_pred_bool)\n",
        "print(cm)\n",
        "\n",
        "# Print f1, precision, and recall scores\n",
        "\n",
        "prec = precision_score(y_test, y_pred_bool , average=\"binary\")\n",
        "prec = prec * 100\n",
        "prec = round(prec, 2)\n",
        "rec  = recall_score(y_test, y_pred_bool , average=\"binary\")\n",
        "rec  = rec * 100\n",
        "rec  = round(rec, 2)\n",
        "f1   = f1_score(y_test, y_pred_bool , average=\"binary\")\n",
        "\n",
        "print('Overall Precision:', prec, '%')\n",
        "print('Overall Recall:',     rec,  '%')\n",
        "print('Overall F1 Score:',   f1)\n"
      ],
      "execution_count": null,
      "outputs": [
        {
          "output_type": "stream",
          "text": [
            "[[19491     1]\n",
            " [    0     8]]\n",
            "Overall Precision: 88.89 %\n",
            "Overall Recall: 100.0 %\n",
            "Overall F1 Score: 0.9411764705882353\n"
          ],
          "name": "stdout"
        }
      ]
    }
  ]
}