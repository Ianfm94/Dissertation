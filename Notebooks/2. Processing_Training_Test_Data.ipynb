{
  "nbformat": 4,
  "nbformat_minor": 0,
  "metadata": {
    "colab": {
      "name": "2. Processing_Training/Test_Data.ipynb",
      "provenance": [],
      "collapsed_sections": [],
      "authorship_tag": "ABX9TyOaLSuYbpMawXP0qRCyhLyM",
      "include_colab_link": true
    },
    "kernelspec": {
      "name": "python3",
      "display_name": "Python 3"
    },
    "accelerator": "GPU"
  },
  "cells": [
    {
      "cell_type": "markdown",
      "metadata": {
        "id": "view-in-github",
        "colab_type": "text"
      },
      "source": [
        "<a href=\"https://colab.research.google.com/github/Ianfm94/Dissertation/blob/master/Notebooks/2.%20Processing_Training_Test_Data.ipynb\" target=\"_parent\"><img src=\"https://colab.research.google.com/assets/colab-badge.svg\" alt=\"Open In Colab\"/></a>"
      ]
    },
    {
      "cell_type": "code",
      "metadata": {
        "id": "496bQxf42eIB",
        "colab_type": "code",
        "colab": {
          "base_uri": "https://localhost:8080/",
          "height": 35
        },
        "outputId": "cebc910e-9f73-4b0d-ab10-3e712ef57b15"
      },
      "source": [
        "import pandas as pd\n",
        "import numpy as np\n",
        "from google.colab import drive\n",
        "from collections.abc import Iterable\n",
        "drive.mount('/drive', force_remount=True)"
      ],
      "execution_count": null,
      "outputs": [
        {
          "output_type": "stream",
          "text": [
            "Mounted at /drive\n"
          ],
          "name": "stdout"
        }
      ]
    },
    {
      "cell_type": "code",
      "metadata": {
        "id": "Dso7wHMI0HRW",
        "colab_type": "code",
        "colab": {}
      },
      "source": [
        "train_data = pd.read_csv('Training_Data.csv',\n",
        "                   index_col=0)\n",
        "\n",
        "train_data = pd.DataFrame(train_data)\n",
        "\n",
        "train_data_1 = train_data.iloc[0:, 1:]\n",
        "padding = []\n",
        "\n",
        "for i in range(2000):\n",
        "    padding.append(1)\n",
        "train_data_1['padding'] = padding\n",
        "\n",
        "train_data = train_data.to_numpy()\n",
        "train_data_1 = train_data_1.to_numpy()\n",
        "\n",
        "lst_,lst_1,lst_2,lst_3  = [],[],[],[]\n",
        "lst_4 = ''\n",
        "\n",
        "for i in train_data:\n",
        "    lst_.append(i)\n",
        "for i in train_data_1:\n",
        "    lst_1.append(i)\n",
        "\n",
        "for i in range(len(lst_)):\n",
        "    for j in range(len(lst_1)):\n",
        "        if i == j:\n",
        "            two_min_return = lst_1[j]/lst_[i]\n",
        "            two_min_return = two_min_return - 1\n",
        "            two_min_return = two_min_return * 100\n",
        "            lst_2.append(two_min_return)\n",
        "\n",
        "returns_1 = pd.DataFrame(lst_2)\n",
        "returns_1.drop(returns_1.columns[-1], axis=1, inplace=True)\n",
        "returns_1.to_csv('Training_Returns.csv')\n",
        "\n",
        "# 0 = Volatility, 1 = Jump "
      ],
      "execution_count": null,
      "outputs": []
    },
    {
      "cell_type": "code",
      "metadata": {
        "id": "6ibBlUVuXiv2",
        "colab_type": "code",
        "colab": {}
      },
      "source": [
        "test_data = pd.read_csv('Test_Data.csv',\n",
        "                   index_col=0)\n",
        "\n",
        "test_data = pd.DataFrame(test_data)\n",
        "\n",
        "test_data_1 = test_data.iloc[0:, 1:]\n",
        "padding = []\n",
        "\n",
        "for i in range(100):\n",
        "    padding.append(1)\n",
        "test_data_1['padding'] = padding\n",
        "\n",
        "test_data = test_data.to_numpy()\n",
        "test_data_1 = test_data_1.to_numpy()\n",
        "\n",
        "lst_,lst_1,lst_2,lst_3  = [],[],[],[]\n",
        "lst_4 = ''\n",
        "\n",
        "for i in test_data:\n",
        "    lst_.append(i)\n",
        "for i in test_data_1:\n",
        "    lst_1.append(i)\n",
        "\n",
        "for i in range(len(lst_)):\n",
        "    for j in range(len(lst_1)):\n",
        "        if i == j:\n",
        "            two_min_return = lst_1[j]/lst_[i]\n",
        "            two_min_return = two_min_return - 1\n",
        "            two_min_return = two_min_return * 100\n",
        "            lst_2.append(two_min_return)\n",
        "\n",
        "returns_1 = pd.DataFrame(lst_2)\n",
        "returns_1.drop(returns_1.columns[-1], axis=1, inplace=True)\n",
        "returns_1.to_csv('Test_Returns.csv')\n",
        "\n",
        "# 0 = Volatility, 1 = Jump "
      ],
      "execution_count": null,
      "outputs": []
    },
    {
      "cell_type": "code",
      "metadata": {
        "id": "wP4fISW24wvL",
        "colab_type": "code",
        "colab": {
          "base_uri": "https://localhost:8080/",
          "height": 780
        },
        "outputId": "2ddd897d-0fbd-4a0f-d37f-d90fe3bf26e2"
      },
      "source": [
        "# Reading in training and labels data\n",
        "\n",
        "train_1 = pd.read_csv('Training_Returns_with_labels.csv',\n",
        "  index_col = 0)\n",
        "train_1 = pd.DataFrame(train_1)\n",
        "labels_1 = pd.read_csv('Training_Labels_with_labels.csv',\n",
        "  index_col = 0)\n",
        "labels_1 = pd.DataFrame(labels_1)\n",
        "\n",
        "test_1 = pd.read_csv('Test_Returns_with_labels.csv',\n",
        "  index_col = 0)\n",
        "test_1 = pd.DataFrame(test_1)\n",
        "\n",
        "#train_1.drop(train_1.columns[-1], axis=1, inplace=True)\n",
        "\n",
        "# In the labels file 0 = Volatility, 1 = Jump\n",
        "\n",
        "print(train_1.head(n=10))\n",
        "print(train_1.shape)\n",
        "print()\n",
        "print(labels_1.head(n=10))\n",
        "print(labels_1.shape)\n",
        "print()\n",
        "print(test_1.head(n=10))\n",
        "print(test_1.shape)\n"
      ],
      "execution_count": null,
      "outputs": [
        {
          "output_type": "stream",
          "text": [
            "      09:30     09:32     09:34  ...     15:54     15:56     15:58\n",
            "0  0.712069 -0.101955 -0.013312  ...  0.071408  0.017839 -1.165454\n",
            "1 -0.068878  0.114877 -0.162937  ... -0.025024 -0.050061 -1.165454\n",
            "2  0.721098 -0.260756  0.295838  ...  0.104945  0.003419 -1.165454\n",
            "3 -0.320183  0.401514  0.205667  ... -0.041466  0.036874 -1.165454\n",
            "4 -0.298394  0.937150 -0.317115  ... -0.006872 -0.046965 -1.165454\n",
            "5  0.000000  0.184489 -0.142091  ...  0.065947 -0.062494 -1.165454\n",
            "6  0.112326 -0.456735  0.043264  ... -0.048078  0.008017 -1.165454\n",
            "7  0.017156 -0.161235  0.250833  ...  0.066765 -0.087427 -1.165454\n",
            "8 -0.228784  0.262229 -0.081520  ...  0.054676 -0.028461 -1.165454\n",
            "9 -0.109659  0.196688  0.039945  ...  0.088428  0.001133 -1.165454\n",
            "\n",
            "[10 rows x 195 columns]\n",
            "(2000, 195)\n",
            "\n",
            "   09:30  09:32  09:34  09:36  09:38  ...  15:50  15:52  15:54  15:56  15:58\n",
            "0      0      0      0      0      0  ...      0      0      0      0      0\n",
            "1      0      0      0      0      0  ...      0      0      0      0      0\n",
            "2      0      0      0      0      0  ...      0      0      0      0      0\n",
            "3      0      0      0      0      0  ...      0      0      0      0      0\n",
            "4      0      0      0      0      0  ...      0      0      0      0      0\n",
            "5      0      0      0      0      0  ...      0      0      0      0      0\n",
            "6      0      0      0      0      0  ...      0      0      0      0      0\n",
            "7      0      0      0      0      0  ...      0      0      0      0      0\n",
            "8      0      0      0      0      0  ...      0      0      0      0      0\n",
            "9      0      0      0      0      0  ...      0      0      0      0      0\n",
            "\n",
            "[10 rows x 195 columns]\n",
            "(2000, 195)\n",
            "\n",
            "      09:30     09:32     09:34  ...     15:54     15:56    15:58\n",
            "0 -0.287683 -0.548178 -0.464171  ... -0.113655  0.156451 -1.23457\n",
            "1 -0.792487 -1.257394  0.404489  ...  0.123004  0.000000 -1.23457\n",
            "2 -0.743202  2.150713 -0.249538  ... -0.291370  0.000000 -1.23457\n",
            "3  0.062501  0.000000 -0.640225  ... -0.132388 -0.132557 -1.23457\n",
            "4 -0.404582  0.863233 -0.654471  ... -0.198925 -0.058267 -1.23457\n",
            "5 -2.757800 -0.246909 -1.370218  ...  0.189392 -0.031507 -1.23457\n",
            "6  0.795354 -0.582358  0.552307  ... -0.113273 -0.063003 -1.23457\n",
            "7 -0.966897  0.411242  1.417246  ... -0.082505  0.110094 -1.23457\n",
            "8  0.780348 -0.369655  0.425719  ...  0.174234 -0.075365 -1.23457\n",
            "9 -0.087537  0.763140  0.050430  ...  0.138057 -0.044187 -1.23457\n",
            "\n",
            "[10 rows x 195 columns]\n",
            "(100, 195)\n"
          ],
          "name": "stdout"
        }
      ]
    },
    {
      "cell_type": "code",
      "metadata": {
        "id": "cBJFC6px4yc9",
        "colab_type": "code",
        "colab": {
          "base_uri": "https://localhost:8080/",
          "height": 225
        },
        "outputId": "582f7913-8437-44a9-ae94-59707eeb0838"
      },
      "source": [
        "# CSV File of Training Data Price Returns\n",
        "\n",
        "return_, label_ = [], []\n",
        "lst_ = []\n",
        "\n",
        "return_ = train_1.values.tolist()\n",
        "label_ = labels_1.values.tolist()\n",
        "\n",
        "# Source https://stackoverflow.com/questions/952914/how-to-make-a-flat-list-out-of-list-of-lists\n",
        "def flatten(list_):\n",
        "    for item in list_:\n",
        "        if isinstance(item, Iterable) and not isinstance(item, str):\n",
        "            yield from flatten(item)\n",
        "        else:\n",
        "            yield item\n",
        "\n",
        "a = list(flatten(return_))\n",
        "b = list(flatten(label_))\n",
        "\n",
        "data = list(zip(a, b))\n",
        "df_ = pd.DataFrame(data)\n",
        "df_.rename(columns={0: \"Return\", 1: \"Label\"}, inplace=True)\n",
        "\n",
        "print(df_.shape)\n",
        "print(df_.head(n=10))\n",
        "\n",
        "df_.to_csv('Training_Data_Distribution.csv')"
      ],
      "execution_count": null,
      "outputs": [
        {
          "output_type": "stream",
          "text": [
            "(390000, 2)\n",
            "     Return  Label\n",
            "0  0.712069      0\n",
            "1 -0.101955      0\n",
            "2 -0.013312      0\n",
            "3  0.042160      0\n",
            "4  0.153044      0\n",
            "5  0.035434      0\n",
            "6 -0.105158      0\n",
            "7  0.313591      0\n",
            "8 -0.083952      0\n",
            "9 -0.080706      0\n"
          ],
          "name": "stdout"
        }
      ]
    },
    {
      "cell_type": "code",
      "metadata": {
        "id": "bJbQVTyD40Ol",
        "colab_type": "code",
        "colab": {
          "base_uri": "https://localhost:8080/",
          "height": 225
        },
        "outputId": "d093af75-a7b0-4bc0-d61a-abdc70149a6c"
      },
      "source": [
        "# CSV File of Airline Price Returns\n",
        "\n",
        "return_, label_ = [], []\n",
        "lst_ = []\n",
        "\n",
        "return_ = train_1[0:500].values.tolist()\n",
        "label_ = labels_1[0:500].values.tolist()\n",
        "\n",
        "# Source https://stackoverflow.com/questions/952914/how-to-make-a-flat-list-out-of-list-of-lists\n",
        "def flatten(list_):\n",
        "    for item in list_:\n",
        "        if isinstance(item, Iterable) and not isinstance(item, str):\n",
        "            yield from flatten(item)\n",
        "        else:\n",
        "            yield item\n",
        "\n",
        "a = list(flatten(return_))\n",
        "b = list(flatten(label_))\n",
        "\n",
        "data = list(zip(a, b))\n",
        "df_ = pd.DataFrame(data)\n",
        "df_.rename(columns={0: \"Return\", 1: \"Label\"}, inplace=True)\n",
        "\n",
        "print(df_.shape)\n",
        "print(df_.head(n=10))\n",
        "\n",
        "df_.to_csv('Airline_Data_Distribution.csv')\n"
      ],
      "execution_count": null,
      "outputs": [
        {
          "output_type": "stream",
          "text": [
            "(97500, 2)\n",
            "     Return  Label\n",
            "0  0.712069      0\n",
            "1 -0.101955      0\n",
            "2 -0.013312      0\n",
            "3  0.042160      0\n",
            "4  0.153044      0\n",
            "5  0.035434      0\n",
            "6 -0.105158      0\n",
            "7  0.313591      0\n",
            "8 -0.083952      0\n",
            "9 -0.080706      0\n"
          ],
          "name": "stdout"
        }
      ]
    },
    {
      "cell_type": "code",
      "metadata": {
        "id": "cIOJb1pq41rU",
        "colab_type": "code",
        "colab": {
          "base_uri": "https://localhost:8080/",
          "height": 225
        },
        "outputId": "ee796463-f104-48c7-b63e-e9eebcd19db4"
      },
      "source": [
        "# CSV File of Test Returns\n",
        "\n",
        "# CSV File of Training Data Price Returns\n",
        "\n",
        "return_1, lst_1= [], []\n",
        "\n",
        "return_1 = test_1.values.tolist()\n",
        "\n",
        "# Source https://stackoverflow.com/questions/952914/how-to-make-a-flat-list-out-of-list-of-lists\n",
        "def flatten(list_):\n",
        "    for item in list_:\n",
        "        if isinstance(item, Iterable) and not isinstance(item, str):\n",
        "            yield from flatten(item)\n",
        "        else:\n",
        "            yield item\n",
        "\n",
        "a = list(flatten(return_1))\n",
        "\n",
        "data = list(zip(a))\n",
        "df_ = pd.DataFrame(data)\n",
        "df_.rename(columns={0: \"Return\"}, inplace=True)\n",
        "\n",
        "print(df_.shape)\n",
        "print(df_.head(n=10))\n",
        "\n",
        "df_.to_csv('Test_Data_Distribution.csv')"
      ],
      "execution_count": null,
      "outputs": [
        {
          "output_type": "stream",
          "text": [
            "(19500, 1)\n",
            "     Return\n",
            "0 -0.287683\n",
            "1 -0.548178\n",
            "2 -0.464171\n",
            "3 -0.029152\n",
            "4  0.641403\n",
            "5  0.217268\n",
            "6  0.245698\n",
            "7  0.519318\n",
            "8  0.100116\n",
            "9  0.157617\n"
          ],
          "name": "stdout"
        }
      ]
    }
  ]
}