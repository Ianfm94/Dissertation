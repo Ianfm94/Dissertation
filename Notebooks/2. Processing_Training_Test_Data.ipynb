{
  "nbformat": 4,
  "nbformat_minor": 0,
  "metadata": {
    "colab": {
      "name": "2. Processing_Training/Test_Data.ipynb",
      "provenance": [],
      "collapsed_sections": [],
      "authorship_tag": "ABX9TyOmO4M+eUxJ2Il+7M0dxDFZ",
      "include_colab_link": true
    },
    "kernelspec": {
      "name": "python3",
      "display_name": "Python 3"
    },
    "accelerator": "GPU"
  },
  "cells": [
    {
      "cell_type": "markdown",
      "metadata": {
        "id": "view-in-github",
        "colab_type": "text"
      },
      "source": [
        "<a href=\"https://colab.research.google.com/github/Ianfm94/Dissertation/blob/master/Notebooks/%202.%20Processing_Training_Test_Data.ipynb\" target=\"_parent\"><img src=\"https://colab.research.google.com/assets/colab-badge.svg\" alt=\"Open In Colab\"/></a>"
      ]
    },
    {
      "cell_type": "code",
      "metadata": {
        "id": "496bQxf42eIB",
        "colab_type": "code",
        "colab": {
          "base_uri": "https://localhost:8080/",
          "height": 35
        },
        "outputId": "89de28ae-f4e0-4afb-e92a-900e95d0bff1"
      },
      "source": [
        "import pandas as pd\n",
        "import numpy as np\n",
        "from google.colab import drive\n",
        "from collections.abc import Iterable\n",
        "drive.mount('/drive', force_remount=True)"
      ],
      "execution_count": 8,
      "outputs": [
        {
          "output_type": "stream",
          "text": [
            "Mounted at /drive\n"
          ],
          "name": "stdout"
        }
      ]
    },
    {
      "cell_type": "code",
      "metadata": {
        "id": "Dso7wHMI0HRW",
        "colab_type": "code",
        "colab": {}
      },
      "source": [
        "# Calculating Log Returns\n",
        "\n",
        "train_data = pd.read_csv('Training_Data.csv',\n",
        "                   index_col=0)\n",
        "\n",
        "train_data = pd.DataFrame(train_data)\n",
        "\n",
        "train_data_1 = train_data.iloc[0:, 1:]\n",
        "padding = []\n",
        "\n",
        "for i in range(2000):\n",
        "    padding.append(1)\n",
        "train_data_1['padding'] = padding\n",
        "\n",
        "train_data = train_data.to_numpy()\n",
        "train_data_1 = train_data_1.to_numpy()\n",
        "\n",
        "lst_,lst_1,lst_2,lst_3  = [],[],[],[]\n",
        "lst_4 = ''\n",
        "\n",
        "for i in train_data:\n",
        "    lst_.append(i)\n",
        "for i in train_data_1:\n",
        "    lst_1.append(i)\n",
        "\n",
        "for i in range(len(lst_)):\n",
        "    for j in range(len(lst_1)):\n",
        "        if i == j:\n",
        "            two_min_return = lst_1[j]/lst_[i]\n",
        "            two_min_return = np.log(two_min_return)\n",
        "            two_min_return = two_min_return * 100\n",
        "            lst_2.append(two_min_return)\n",
        "\n",
        "returns_1 = pd.DataFrame(lst_2)\n",
        "returns_1.drop(returns_1.columns[-1], axis=1, inplace=True)\n",
        "returns_1.to_csv('Log_Training_Returns.csv')\n",
        "\n",
        "# 0 = Volatility, 1 = Jump "
      ],
      "execution_count": 2,
      "outputs": []
    },
    {
      "cell_type": "code",
      "metadata": {
        "id": "6ibBlUVuXiv2",
        "colab_type": "code",
        "colab": {}
      },
      "source": [
        "# Calculating Log Returns\n",
        "\n",
        "test_data = pd.read_csv('Test_Data.csv',\n",
        "                   index_col=0)\n",
        "\n",
        "test_data = pd.DataFrame(test_data)\n",
        "\n",
        "test_data_1 = test_data.iloc[0:, 1:]\n",
        "padding = []\n",
        "\n",
        "for i in range(100):\n",
        "    padding.append(1)\n",
        "test_data_1['padding'] = padding\n",
        "\n",
        "test_data = test_data.to_numpy()\n",
        "test_data_1 = test_data_1.to_numpy()\n",
        "\n",
        "lst_,lst_1,lst_2,lst_3  = [],[],[],[]\n",
        "lst_4 = ''\n",
        "\n",
        "for i in test_data:\n",
        "    lst_.append(i)\n",
        "for i in test_data_1:\n",
        "    lst_1.append(i)\n",
        "\n",
        "for i in range(len(lst_)):\n",
        "    for j in range(len(lst_1)):\n",
        "        if i == j:\n",
        "            two_min_return = lst_1[j]/lst_[i]\n",
        "            two_min_return = np.log(two_min_return)\n",
        "            two_min_return = two_min_return * 100\n",
        "            lst_2.append(two_min_return)\n",
        "\n",
        "returns_1 = pd.DataFrame(lst_2)\n",
        "returns_1.drop(returns_1.columns[-1], axis=1, inplace=True)\n",
        "returns_1.to_csv('Log_Test_Returns.csv')\n",
        "\n",
        "# 0 = Volatility, 1 = Jump "
      ],
      "execution_count": 3,
      "outputs": []
    },
    {
      "cell_type": "code",
      "metadata": {
        "id": "wP4fISW24wvL",
        "colab_type": "code",
        "colab": {
          "base_uri": "https://localhost:8080/",
          "height": 780
        },
        "outputId": "48d506b9-21c1-4b0f-f6c8-848bb72dabee"
      },
      "source": [
        "# Reading in training and labels data\n",
        "\n",
        "train_1 = pd.read_csv('Log_Training_Returns_with_labels.csv',\n",
        "  index_col = 0)\n",
        "train_1 = pd.DataFrame(train_1)\n",
        "labels_1 = pd.read_csv('Log_Training_Labels_with_labels.csv',\n",
        "  index_col = 0)\n",
        "labels_1 = pd.DataFrame(labels_1)\n",
        "\n",
        "test_1 = pd.read_csv('Log_Test_Returns_with_labels.csv',\n",
        "  index_col = 0)\n",
        "test_1 = pd.DataFrame(test_1)\n",
        "\n",
        "#train_1.drop(train_1.columns[-1], axis=1, inplace=True)\n",
        "\n",
        "# In the labels file 0 = Volatility, 1 = Jump\n",
        "\n",
        "print(train_1.head(n=10))\n",
        "print(train_1.shape)\n",
        "print()\n",
        "print(labels_1.head(n=10))\n",
        "print(labels_1.shape)\n",
        "print()\n",
        "print(test_1.head(n=10))\n",
        "print(test_1.shape)\n"
      ],
      "execution_count": 4,
      "outputs": [
        {
          "output_type": "stream",
          "text": [
            "      09:30     09:32     09:34  ...     15:54     15:56     15:58\n",
            "0  0.709546 -0.102007 -0.013313  ...  0.071382  0.017838 -1.172298\n",
            "1 -0.068902  0.114811 -0.163070  ... -0.025027 -0.050073 -1.172298\n",
            "2  0.718511 -0.261097  0.295401  ...  0.104890  0.003418 -1.172298\n",
            "3 -0.320697  0.400710  0.205456  ... -0.041475  0.036867 -1.172298\n",
            "4 -0.298840  0.932786 -0.317619  ... -0.006873 -0.046976 -1.172298\n",
            "5  0.000000  0.184319 -0.142192  ...  0.065925 -0.062514 -1.172298\n",
            "6  0.112263 -0.457781  0.043255  ... -0.048090  0.008017 -1.172298\n",
            "7  0.017154 -0.161365  0.250519  ...  0.066743 -0.087465 -1.172298\n",
            "8 -0.229046  0.261886 -0.081553  ...  0.054661 -0.028466 -1.172298\n",
            "9 -0.109719  0.196495  0.039937  ...  0.088389  0.001133 -1.172298\n",
            "\n",
            "[10 rows x 195 columns]\n",
            "(2000, 195)\n",
            "\n",
            "   09:30  09:32  09:34  09:36  09:38  ...  15:50  15:52  15:54  15:56  15:58\n",
            "0      0      0      0      0      0  ...      0      0      0      0      0\n",
            "1      0      0      0      0      0  ...      0      0      0      0      0\n",
            "2      0      0      0      0      0  ...      0      0      0      0      0\n",
            "3      0      0      0      0      0  ...      0      0      0      0      0\n",
            "4      0      0      0      0      0  ...      0      0      0      0      0\n",
            "5      0      0      0      0      0  ...      0      0      0      0      0\n",
            "6      0      0      0      0      0  ...      0      0      0      0      0\n",
            "7      0      0      0      0      0  ...      0      0      0      0      0\n",
            "8      0      0      0      0      0  ...      0      0      0      0      0\n",
            "9      0      0      0      0      0  ...      0      0      0      0      0\n",
            "\n",
            "[10 rows x 195 columns]\n",
            "(2000, 195)\n",
            "\n",
            "      09:30     09:32     09:34  ...     15:54     15:56     15:58\n",
            "0 -0.288097 -0.549686 -0.465252  ... -0.113720  0.156329 -1.242254\n",
            "1 -0.795644 -1.265366  0.403673  ...  0.122928  0.000000 -1.242254\n",
            "2 -0.745978  2.127911 -0.249850  ... -0.291795  0.000000 -1.242254\n",
            "3  0.062482  0.000000 -0.642283  ... -0.132475 -0.132645 -1.242254\n",
            "4 -0.405402  0.859529 -0.656622  ... -0.199123 -0.058284 -1.242254\n",
            "5 -2.796541 -0.247214 -1.379693  ...  0.189213 -0.031512 -1.242254\n",
            "6  0.792207 -0.584060  0.550787  ... -0.113337 -0.063023 -1.242254\n",
            "7 -0.971601  0.410399  1.407297  ... -0.082539  0.110033 -1.242254\n",
            "8  0.777319 -0.370340  0.424816  ...  0.174083 -0.075393 -1.242254\n",
            "9 -0.087575  0.760243  0.050417  ...  0.137961 -0.044197 -1.242254\n",
            "\n",
            "[10 rows x 195 columns]\n",
            "(100, 195)\n"
          ],
          "name": "stdout"
        }
      ]
    },
    {
      "cell_type": "code",
      "metadata": {
        "id": "cBJFC6px4yc9",
        "colab_type": "code",
        "colab": {
          "base_uri": "https://localhost:8080/",
          "height": 225
        },
        "outputId": "2201ad3e-d46e-43d9-f949-181e659007ed"
      },
      "source": [
        "# CSV File of Training Data Price Returns\n",
        "\n",
        "return_, label_ = [], []\n",
        "lst_ = []\n",
        "\n",
        "return_ = train_1.values.tolist()\n",
        "label_ = labels_1.values.tolist()\n",
        "\n",
        "# Source https://stackoverflow.com/questions/952914/how-to-make-a-flat-list-out-of-list-of-lists\n",
        "def flatten(list_):\n",
        "    for item in list_:\n",
        "        if isinstance(item, Iterable) and not isinstance(item, str):\n",
        "            yield from flatten(item)\n",
        "        else:\n",
        "            yield item\n",
        "\n",
        "a = list(flatten(return_))\n",
        "b = list(flatten(label_))\n",
        "\n",
        "data = list(zip(a, b))\n",
        "df_ = pd.DataFrame(data)\n",
        "df_.rename(columns={0: \"Return\", 1: \"Label\"}, inplace=True)\n",
        "\n",
        "print(df_.shape)\n",
        "print(df_.head(n=10))\n",
        "\n",
        "df_.to_csv('Log_Training_Data_Distribution.csv')"
      ],
      "execution_count": 5,
      "outputs": [
        {
          "output_type": "stream",
          "text": [
            "(390000, 2)\n",
            "     Return  Label\n",
            "0  0.709546      0\n",
            "1 -0.102007      0\n",
            "2 -0.013313      0\n",
            "3  0.042152      0\n",
            "4  0.152927      0\n",
            "5  0.035428      0\n",
            "6 -0.105214      0\n",
            "7  0.313100      0\n",
            "8 -0.083987      0\n",
            "9 -0.080738      0\n"
          ],
          "name": "stdout"
        }
      ]
    },
    {
      "cell_type": "code",
      "metadata": {
        "id": "bJbQVTyD40Ol",
        "colab_type": "code",
        "colab": {
          "base_uri": "https://localhost:8080/",
          "height": 225
        },
        "outputId": "b60c92c4-eb52-450d-ac1b-7e33223ccc45"
      },
      "source": [
        "# CSV File of Airline Price Returns\n",
        "\n",
        "return_, label_ = [], []\n",
        "lst_ = []\n",
        "\n",
        "return_ = train_1[0:500].values.tolist()\n",
        "label_ = labels_1[0:500].values.tolist()\n",
        "\n",
        "# Source https://stackoverflow.com/questions/952914/how-to-make-a-flat-list-out-of-list-of-lists\n",
        "def flatten(list_):\n",
        "    for item in list_:\n",
        "        if isinstance(item, Iterable) and not isinstance(item, str):\n",
        "            yield from flatten(item)\n",
        "        else:\n",
        "            yield item\n",
        "\n",
        "a = list(flatten(return_))\n",
        "b = list(flatten(label_))\n",
        "\n",
        "data = list(zip(a, b))\n",
        "df_ = pd.DataFrame(data)\n",
        "df_.rename(columns={0: \"Return\", 1: \"Label\"}, inplace=True)\n",
        "\n",
        "print(df_.shape)\n",
        "print(df_.head(n=10))\n",
        "\n",
        "df_.to_csv('Log_Airline_Data_Distribution.csv')\n"
      ],
      "execution_count": 6,
      "outputs": [
        {
          "output_type": "stream",
          "text": [
            "(97500, 2)\n",
            "     Return  Label\n",
            "0  0.709546      0\n",
            "1 -0.102007      0\n",
            "2 -0.013313      0\n",
            "3  0.042152      0\n",
            "4  0.152927      0\n",
            "5  0.035428      0\n",
            "6 -0.105214      0\n",
            "7  0.313100      0\n",
            "8 -0.083987      0\n",
            "9 -0.080738      0\n"
          ],
          "name": "stdout"
        }
      ]
    },
    {
      "cell_type": "code",
      "metadata": {
        "id": "cIOJb1pq41rU",
        "colab_type": "code",
        "colab": {
          "base_uri": "https://localhost:8080/",
          "height": 225
        },
        "outputId": "2af70ad8-7968-456f-9bc7-e2d9aa8680a3"
      },
      "source": [
        "# CSV File of Test Returns\n",
        "\n",
        "# CSV File of Training Data Price Returns\n",
        "\n",
        "return_1, lst_1= [], []\n",
        "\n",
        "return_1 = test_1.values.tolist()\n",
        "\n",
        "# Source https://stackoverflow.com/questions/952914/how-to-make-a-flat-list-out-of-list-of-lists\n",
        "def flatten(list_):\n",
        "    for item in list_:\n",
        "        if isinstance(item, Iterable) and not isinstance(item, str):\n",
        "            yield from flatten(item)\n",
        "        else:\n",
        "            yield item\n",
        "\n",
        "a = list(flatten(return_1))\n",
        "\n",
        "data = list(zip(a))\n",
        "df_ = pd.DataFrame(data)\n",
        "df_.rename(columns={0: \"Return\"}, inplace=True)\n",
        "\n",
        "print(df_.shape)\n",
        "print(df_.head(n=10))\n",
        "\n",
        "df_.to_csv('Log_Test_Data_Distribution.csv')"
      ],
      "execution_count": 7,
      "outputs": [
        {
          "output_type": "stream",
          "text": [
            "(19500, 1)\n",
            "     Return\n",
            "0 -0.288097\n",
            "1 -0.549686\n",
            "2 -0.465252\n",
            "3 -0.029156\n",
            "4  0.639355\n",
            "5  0.217032\n",
            "6  0.245396\n",
            "7  0.517974\n",
            "8  0.100066\n",
            "9  0.157492\n"
          ],
          "name": "stdout"
        }
      ]
    }
  ]
}
